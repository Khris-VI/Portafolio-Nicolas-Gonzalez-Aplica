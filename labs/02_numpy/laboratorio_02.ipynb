{
 "cells": [
  {
   "cell_type": "markdown",
   "metadata": {},
   "source": [
    "<img src=\"images/usm.jpg\" width=\"480\" height=\"240\" align=\"left\"/>"
   ]
  },
  {
   "cell_type": "markdown",
   "metadata": {},
   "source": [
    "# MAT281 - Laboratorio N°02\n",
    "\n",
    "## Objetivos de la clase\n",
    "\n",
    "* Reforzar los conceptos básicos de numpy."
   ]
  },
  {
   "cell_type": "markdown",
   "metadata": {},
   "source": [
    "## Contenidos\n",
    "\n",
    "* [Problema 01](#p1)\n",
    "* [Problema 02](#p2)\n",
    "* [Problema 03](#p3)"
   ]
  },
  {
   "cell_type": "code",
   "execution_count": 1,
   "metadata": {},
   "outputs": [],
   "source": [
    "import numpy as np\n",
    "import time\n",
    "import sys"
   ]
  },
  {
   "cell_type": "markdown",
   "metadata": {},
   "source": [
    "<a id='p1'></a>\n",
    "\n",
    "## Problema 01\n",
    "\n",
    "Una **media móvil simple** (SMA) es el promedio de los últimos $k$ datos anteriores, es decir, sea $a_1$,$a_2$,...,$a_n$ un arreglo $n$-dimensional, entonces la SMA se define por:\n",
    "\n",
    "$$sma(k) =\\dfrac{1}{k}(a_{n}+a_{n-1}+...+a_{n-(k-1)}) = \\dfrac{1}{k}\\sum_{i=0}^{k-1}a_{n-i}  $$ \n",
    "\n",
    "\n",
    "Por otro lado podemos definir el SMA con una venta móvil de $n$ si el resultado nos retorna la el promedio ponderado avanzando de la siguiente forma:\n",
    "\n",
    "* $a = [1,2,3,4,5]$, la SMA con una ventana de $n=2$ sería:\n",
    "\n",
    "\n",
    "    * sma(2): [mean(1,2),mean(2,3),mean(3,4)] = [1.5, 2.5, 3.5, 4.5]\n",
    "    * sma(3): [mean(1,2,3),mean(2,3,4),mean(3,4,5)] = [2.,3.,4.]\n",
    "\n",
    "\n",
    "Implemente una función llamada `sma` cuyo input sea un arreglo unidimensional $a$ y un entero $n$, y cuyo ouput retorne el valor de la media móvil simple sobre el arreglo de la siguiente forma:\n",
    "\n",
    "* **Ejemplo**: *sma([5,3,8,10,2,1,5,1,0,2], 2)* = $[4. , 5.5, 9. , 6. , 1.5, 3. , 3. , 0.5, 1. ]$\n",
    "\n",
    "En este caso, se esta calculando el SMA para un arreglo con una ventana de $n=2$.\n",
    "\n",
    "**Hint**: utilice la función `numpy.cumsum`"
   ]
  },
  {
   "cell_type": "code",
   "execution_count": 2,
   "metadata": {},
   "outputs": [
    {
     "data": {
      "text/plain": [
       "array([ 5.,  8., 16., 26., 28., 29., 34., 35., 35., 37.])"
      ]
     },
     "execution_count": 2,
     "metadata": {},
     "output_type": "execute_result"
    }
   ],
   "source": [
    "np.cumsum([5,3,8,10,2,1,5,1,0,2],dtype=float)"
   ]
  },
  {
   "cell_type": "code",
   "execution_count": 3,
   "metadata": {},
   "outputs": [],
   "source": [
    "def sma(a:list,n:int)->np.array:\n",
    "    \n",
    "    \"\"\"\n",
    "    sma(a,n)\n",
    "\n",
    "    Calcula el valor de la media móvil simple sobre un arreglo a con una venta de n y los guarda en una lista\n",
    "\n",
    "    Parameters\n",
    "    ----------\n",
    "    a : list\n",
    "        Lista de los valores a los cuales se les calculará la sma.\n",
    "    \n",
    "    n : int\n",
    "        Valor de la ventana de los datos\n",
    "\n",
    "    Returns\n",
    "    -------\n",
    "    output : list\n",
    "        Lista con la sma calculada.\n",
    "        \n",
    "    Examples\n",
    "    --------\n",
    "    >>> sma([5,3,8,10,2,1,5,1,0,2], 2)\n",
    "    array([4. , 5.5, 9. , 6. , 1.5, 3. , 3. , 0.5, 1. ])\n",
    "    \n",
    "    \"\"\"\n",
    "    \n",
    "    \n",
    "    l = np.cumsum(a) #Lista con la suma acumulada de los valores de a\n",
    "    lista = [] #Lista vacia para agregar los valores de la sma\n",
    "    for i in range(n-1,len(l)): #iteramos sobre la lista que tiene los valores acumulados\n",
    "        if i == n-1: #cumsum mantiene el primer valor asi que se agrega de manera directa dividiendo por la ventana n\n",
    "            lista.append(l[n-1]/n) \n",
    "        else:\n",
    "            lista.append((l[i]-l[i-n])/n) #Calculamos la diferencia entre el valor de la i-n ésima posicion menos el anterior\n",
    "                                          #en el sentido del largo de la venta y se divide por la ventana.  \n",
    "    return np.array(lista)\n",
    "            \n",
    "            "
   ]
  },
  {
   "cell_type": "code",
   "execution_count": 4,
   "metadata": {},
   "outputs": [
    {
     "data": {
      "text/plain": [
       "array([4. , 5.5, 9. , 6. , 1.5, 3. , 3. , 0.5, 1. ])"
      ]
     },
     "execution_count": 4,
     "metadata": {},
     "output_type": "execute_result"
    }
   ],
   "source": [
    "sma([5,3,8,10,2,1,5,1,0,2], 2)"
   ]
  },
  {
   "cell_type": "markdown",
   "metadata": {},
   "source": [
    "<a id='p2'></a>\n",
    "\n",
    "## Problema 02\n",
    "\n",
    "La función **strides($a,n,p$)**, corresponde a transformar un arreglo unidimensional $a$ en una matriz de $n$ columnas, en el cual las filas se van construyendo desfasando la posición del arreglo en $p$ pasos hacia adelante.\n",
    "\n",
    "* Para el arreglo unidimensional $a$ = [ 1,  2,  3,  4,  5,  6,  7,  8,  9, 10], la función strides($a,4,2$), corresponde a crear una matriz de $4$ columnas, cuyos desfaces hacia adelante se hacen de dos en dos. \n",
    "\n",
    "El resultado tendría que ser algo así:$$\\begin{pmatrix}\n",
    " 1& 2 &3 &4 \\\\ \n",
    " 3&  4&5&6 \\\\ \n",
    " 5& 6 &7 &8 \\\\ \n",
    " 7& 8 &9 &10 \\\\ \n",
    "\\end{pmatrix}$$\n",
    "\n",
    "\n",
    "Implemente una función llamada `strides(a,4,2)` cuyo input sea un arreglo unidimensional y retorne la matriz de $4$ columnas, cuyos desfaces hacia adelante se hacen de dos en dos. \n",
    "\n",
    "* **Ejemplo**: *strides($a$,4,2)* =$\\begin{pmatrix}\n",
    " 1& 2 &3 &4 \\\\ \n",
    " 3&  4&5&6 \\\\ \n",
    " 5& 6 &7 &8 \\\\ \n",
    " 7& 8 &9 &10 \\\\ \n",
    "\\end{pmatrix}$\n"
   ]
  },
  {
   "cell_type": "code",
   "execution_count": 5,
   "metadata": {},
   "outputs": [],
   "source": [
    "def strides(a:list,n:int,p:int)->np.array:\n",
    "    \n",
    "    \"\"\"\n",
    "    strides(a,n,p)\n",
    "\n",
    "    Toma una lista a y la convierte en una matriz de n columnas con p pasos\n",
    "\n",
    "    Parameters\n",
    "    ----------\n",
    "    a : list\n",
    "        Lista de los valores que se convertiran a matriz.\n",
    "    \n",
    "    n : int\n",
    "        Cantidad de columnas.\n",
    "        \n",
    "    p : int\n",
    "        Paso en el stride\n",
    "\n",
    "    Returns\n",
    "    -------\n",
    "    output : np.array\n",
    "        Matriz con el stride aplicado.\n",
    "        \n",
    "    Examples\n",
    "    --------\n",
    "    >>> strides([1,2,3,4,5,6,7,8,9],3,1)\n",
    "    array([[1., 2., 3.],\n",
    "       [2., 3., 4.],\n",
    "       [3., 4., 5.],\n",
    "       [4., 5., 6.],\n",
    "       [5., 6., 7.],\n",
    "       [6., 7., 8.],\n",
    "       [7., 8., 9.]])\n",
    "    \n",
    "    \"\"\"\n",
    "    \n",
    "    filas = int((len(a)-n+p)/p) #se calcula la cantidad de filas con una formula testeada a mano con ejemplos simples\n",
    "    matriz = np.zeros((filas,n)) #creacion de la matriz\n",
    "    for i in range(0,filas): #iteramos sobre las filas\n",
    "        matriz[i:]=a[i*p:n+i*p] #cambia la fila i-ésima y toma el trozo correspondiente a la fila de la matriz de acuerdo al stride\n",
    "    return matriz\n",
    "        "
   ]
  },
  {
   "cell_type": "code",
   "execution_count": 6,
   "metadata": {},
   "outputs": [
    {
     "data": {
      "text/plain": [
       "array([[1., 2., 3.],\n",
       "       [2., 3., 4.],\n",
       "       [3., 4., 5.],\n",
       "       [4., 5., 6.],\n",
       "       [5., 6., 7.],\n",
       "       [6., 7., 8.],\n",
       "       [7., 8., 9.]])"
      ]
     },
     "execution_count": 6,
     "metadata": {},
     "output_type": "execute_result"
    }
   ],
   "source": [
    "#ejemplo\n",
    "strides([1,2,3,4,5,6,7,8,9],3,1)"
   ]
  },
  {
   "cell_type": "markdown",
   "metadata": {},
   "source": [
    "<a id='p3'></a>\n",
    "\n",
    "## Problema 03\n",
    "\n",
    "\n",
    "Un **cuadrado mágico** es una matriz de tamaño $n \\times n$ de números enteros positivos tal que \n",
    "la suma de los números por columnas, filas y diagonales principales sea la misma. Usualmente, los números empleados para rellenar las casillas son consecutivos, de 1 a $n^2$, siendo $n$ el número de columnas y filas del cuadrado mágico.\n",
    "\n",
    "Si los números son consecutivos de 1 a $n^2$, la suma de los números por columnas, filas y diagonales principales \n",
    "es igual a : $$M_{n} = \\dfrac{n(n^2+1)}{2}$$\n",
    "Por ejemplo, \n",
    "\n",
    "* $A= \\begin{pmatrix}\n",
    " 4& 9 &2 \\\\ \n",
    " 3&  5&7 \\\\ \n",
    " 8& 1 &6 \n",
    "\\end{pmatrix}$,\n",
    "es un cuadrado mágico.\n",
    "\n",
    "* $B= \\begin{pmatrix}\n",
    " 4& 2 &9 \\\\ \n",
    " 3&  5&7 \\\\ \n",
    " 8& 1 &6 \n",
    "\\end{pmatrix}$, no es un cuadrado mágico.\n",
    "\n",
    "Implemente una función llamada `es_cudrado_magico` cuyo input sea una matriz cuadrada de tamaño $n$ con números consecutivos de $1$ a $n^2$ y cuyo ouput retorne *True* si es un cuadrado mágico o 'False', en caso contrario\n",
    "\n",
    "* **Ejemplo**: *es_cudrado_magico($A$)* = True, *es_cudrado_magico($B$)* = False\n",
    "\n",
    "**Hint**: Cree una función que valide la mariz es cuadrada y  que sus números son consecutivos del 1 a $n^2$."
   ]
  },
  {
   "cell_type": "code",
   "execution_count": 7,
   "metadata": {},
   "outputs": [],
   "source": [
    "def validar(A:np.array)->bool:\n",
    "    \n",
    "    \"\"\"\n",
    "    validar(A)\n",
    "\n",
    "    Comprueba si la matriz A es cuadrada y que sus numeros sean consecutivos de 1 a n^2\n",
    "\n",
    "    Parameters\n",
    "    ----------\n",
    "    A : np.array\n",
    "\n",
    "    Returns\n",
    "    -------\n",
    "    output : bool\n",
    "        True o False si la matriz cumple la validación o no.\n",
    "        \n",
    "    Examples\n",
    "    --------\n",
    "    >>> A = np.array([[1,2,3],[4,5,6],[7,8,9]])\n",
    "        validar(A)\n",
    "        True\n",
    "        B = np.array([[1,2,3],[4,5,6]])\n",
    "        validar(B)\n",
    "        False\n",
    "        C = np.array([[1,1,1],[4,5,6],[7,8,24]])\n",
    "        validar(C)\n",
    "        False\n",
    "    \n",
    "    \"\"\"\n",
    "    \n",
    "    tupla = np.shape(A) #Almacenamos las dimensiones de la matriz en una tupla\n",
    "    n=tupla[0]\n",
    "    conjunto = set() #Definimos un conjunto para ocupar la particularidad de que no incluye numeros repetidos\n",
    "    if tupla[0] == tupla[1]: #Se comprueba de inmediato si la matriz es cuadrada o no\n",
    "        for i in range(0,n):\n",
    "            for k in range(n): #Recorremos posición a posición la matriz\n",
    "                if A[i][k] <= n*n and A[i][k]>0: #Se verifica si el el valor de la posición (i,k) es menor o igual a n^2 y si es positivo\n",
    "                    conjunto.add(A[i][k])\n",
    "                else:\n",
    "                    return False #De inmediato se sabe que la matriz no cumple con las propiedades\n",
    "        if len(conjunto) == n*n: #Como los numeros en el conjunto no se repiten basta comprobar si el largo es n^2\n",
    "            return True\n",
    "        else:\n",
    "            return False\n",
    "        \n",
    "    else:\n",
    "        return False\n",
    "    "
   ]
  },
  {
   "cell_type": "code",
   "execution_count": 8,
   "metadata": {},
   "outputs": [],
   "source": [
    "def es_cuadrado_magico(A:np.array)->bool:\n",
    "    \n",
    "    \"\"\"\n",
    "    es_cuadrado_magico(A)\n",
    "\n",
    "    A partir de las condiciones de cuadrado mágico indica si la matriz es o no un cuadrado mágico\n",
    "\n",
    "    Parameters\n",
    "    ----------\n",
    "    A : np.array\n",
    "\n",
    "    Returns\n",
    "    -------\n",
    "    output : bool\n",
    "        True o False si la matriz es o no cuadrado mágico.\n",
    "        \n",
    "    Examples\n",
    "    --------\n",
    "    >>> A = np.array([[4,2,2],[3,1,7],[8,1,6]])\n",
    "        es_cuadrado_magico(A)\n",
    "        False\n",
    "        \n",
    "    >>> B = np.array([[4,9,2],[3,5,7],[8,1,6]])\n",
    "        es_cuadrado_magico(B)\n",
    "        True\n",
    "    \"\"\"\n",
    "    \n",
    "    tupla=np.shape(A)\n",
    "    n=tupla[0] #dimension de la matriz\n",
    "    m=(n*(n**2 + 1))/2 #Formula para comprobar los cuadrados mágicos\n",
    "    transpuesta = A.T\n",
    "    flag = True\n",
    "    if validar(A): #Validamos si la matriz es cuadrada con numeros consecutivos\n",
    "        for i in range(0,n):\n",
    "            if m == sum(A[i]) and sum(A[i]) == sum(transpuesta[i]) and np.trace(A) == sum(A[i]) and m == np.trace(A[::-1]): #Condiciones de un cuadrado mágico\n",
    "                None #Mantenemos el flag en True mientras se hacen las iteraciones y se cumpla la condición\n",
    "            else:\n",
    "                flag = False\n",
    "    else:\n",
    "        return False\n",
    "    return flag #Con flag nos aseguramos que las iteraciones se completen en todos los casos"
   ]
  },
  {
   "cell_type": "code",
   "execution_count": 9,
   "metadata": {
    "scrolled": false
   },
   "outputs": [
    {
     "name": "stdout",
     "output_type": "stream",
     "text": [
      "False\n",
      "True\n"
     ]
    }
   ],
   "source": [
    "A = np.array([[4,2,2],[3,1,7],[8,1,6]])\n",
    "B = np.array([[4,9,2],[3,5,7],[8,1,6]])\n",
    "print(es_cuadrado_magico(A))\n",
    "print(es_cuadrado_magico(B))\n"
   ]
  }
 ],
 "metadata": {
  "kernelspec": {
   "display_name": "Python 3",
   "language": "python",
   "name": "python3"
  },
  "language_info": {
   "codemirror_mode": {
    "name": "ipython",
    "version": 3
   },
   "file_extension": ".py",
   "mimetype": "text/x-python",
   "name": "python",
   "nbconvert_exporter": "python",
   "pygments_lexer": "ipython3",
   "version": "3.7.8"
  }
 },
 "nbformat": 4,
 "nbformat_minor": 4
}
